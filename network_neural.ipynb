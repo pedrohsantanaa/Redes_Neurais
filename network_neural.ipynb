{
  "nbformat": 4,
  "nbformat_minor": 0,
  "metadata": {
    "colab": {
      "provenance": [],
      "authorship_tag": "ABX9TyNP256wj3bdZRj2v7hnTj8S",
      "include_colab_link": true
    },
    "kernelspec": {
      "name": "python3",
      "display_name": "Python 3"
    },
    "language_info": {
      "name": "python"
    }
  },
  "cells": [
    {
      "cell_type": "markdown",
      "metadata": {
        "id": "view-in-github",
        "colab_type": "text"
      },
      "source": [
        "<a href=\"https://colab.research.google.com/github/pedrohsantanaa/Redes_Neurais/blob/main/network_neural.ipynb\" target=\"_parent\"><img src=\"https://colab.research.google.com/assets/colab-badge.svg\" alt=\"Open In Colab\"/></a>"
      ]
    },
    {
      "cell_type": "code",
      "execution_count": null,
      "metadata": {
        "colab": {
          "base_uri": "https://localhost:8080/"
        },
        "id": "evO7Y1l98Gp4",
        "outputId": "f2cea2fa-4025-434f-b8da-676d14371a53"
      },
      "outputs": [
        {
          "output_type": "stream",
          "name": "stdout",
          "text": [
            "\n",
            "Modelo\n",
            "<Sequential name=sequential_17, built=False>\n",
            "\n",
            "Modelo\n",
            "<Sequential name=sequential_17, built=True>\n",
            "Epoch 1/10\n",
            "\u001b[1m10/10\u001b[0m \u001b[32m━━━━━━━━━━━━━━━━━━━━\u001b[0m\u001b[37m\u001b[0m \u001b[1m1s\u001b[0m 4ms/step - accuracy: 0.4613 - loss: 0.7070  \n",
            "Epoch 2/10\n",
            "\u001b[1m10/10\u001b[0m \u001b[32m━━━━━━━━━━━━━━━━━━━━\u001b[0m\u001b[37m\u001b[0m \u001b[1m0s\u001b[0m 4ms/step - accuracy: 0.5391 - loss: 0.6936 \n",
            "Epoch 3/10\n",
            "\u001b[1m10/10\u001b[0m \u001b[32m━━━━━━━━━━━━━━━━━━━━\u001b[0m\u001b[37m\u001b[0m \u001b[1m0s\u001b[0m 5ms/step - accuracy: 0.4866 - loss: 0.7053  \n",
            "Epoch 4/10\n",
            "\u001b[1m10/10\u001b[0m \u001b[32m━━━━━━━━━━━━━━━━━━━━\u001b[0m\u001b[37m\u001b[0m \u001b[1m0s\u001b[0m 4ms/step - accuracy: 0.4636 - loss: 0.6965 \n",
            "Epoch 5/10\n",
            "\u001b[1m10/10\u001b[0m \u001b[32m━━━━━━━━━━━━━━━━━━━━\u001b[0m\u001b[37m\u001b[0m \u001b[1m0s\u001b[0m 4ms/step - accuracy: 0.4534 - loss: 0.7050 \n",
            "Epoch 6/10\n",
            "\u001b[1m10/10\u001b[0m \u001b[32m━━━━━━━━━━━━━━━━━━━━\u001b[0m\u001b[37m\u001b[0m \u001b[1m0s\u001b[0m 5ms/step - accuracy: 0.4317 - loss: 0.6968  \n",
            "Epoch 7/10\n",
            "\u001b[1m10/10\u001b[0m \u001b[32m━━━━━━━━━━━━━━━━━━━━\u001b[0m\u001b[37m\u001b[0m \u001b[1m0s\u001b[0m 4ms/step - accuracy: 0.4636 - loss: 0.6973 \n",
            "Epoch 8/10\n",
            "\u001b[1m10/10\u001b[0m \u001b[32m━━━━━━━━━━━━━━━━━━━━\u001b[0m\u001b[37m\u001b[0m \u001b[1m0s\u001b[0m 4ms/step - accuracy: 0.4571 - loss: 0.7005 \n",
            "Epoch 9/10\n",
            "\u001b[1m10/10\u001b[0m \u001b[32m━━━━━━━━━━━━━━━━━━━━\u001b[0m\u001b[37m\u001b[0m \u001b[1m0s\u001b[0m 4ms/step - accuracy: 0.4583 - loss: 0.7013 \n",
            "Epoch 10/10\n",
            "\u001b[1m10/10\u001b[0m \u001b[32m━━━━━━━━━━━━━━━━━━━━\u001b[0m\u001b[37m\u001b[0m \u001b[1m0s\u001b[0m 4ms/step - accuracy: 0.4487 - loss: 0.7040 \n",
            "\n",
            "Modelo\n",
            "<Sequential name=sequential_17, built=True>\n",
            "\u001b[1m1/1\u001b[0m \u001b[32m━━━━━━━━━━━━━━━━━━━━\u001b[0m\u001b[37m\u001b[0m \u001b[1m0s\u001b[0m 59ms/step\n",
            "Resultado da rede: [[0.5057345]]\n",
            "✅ Crédito aprovado!\n"
          ]
        }
      ],
      "source": [
        "# 🧰 Importando as ferramentas que vamos usar\n",
        "from keras.models import Sequential  # Usamos para montar nossa rede \"de blocos\"\n",
        "from keras.layers import Dense  # Usamos para criar os neurônios (camadas)\n",
        "import numpy as np                   # Biblioteca para gerar números aleatórios\n",
        "\n",
        "# 👥 Criando dados de 100 pessoas fictícias\n",
        "# Cada pessoa tem 4 informações:\n",
        "# [idade, salário, tempo de emprego, tem dívidas (1 = sim, 0 = não)]\n",
        "X = np.random.rand(100, 4)  # 100 pessoas, 4 características cada\n",
        "\n",
        "\n",
        "# 🟢 Respostas: se a pessoa teve o empréstimo aprovado (1) ou não (0)\n",
        "y = np.random.randint(2, size=(100, 1))  # Resultado aleatório: 0 ou 1\n",
        "\n",
        "# 🧠 Criando o modelo da rede neural\n",
        "modelo = Sequential()  # Começamos uma rede \"vazia\", como uma caixa de blocos\n",
        "\n",
        "# 🧠 Criando o modelo da rede neural\n",
        "modelo = Sequential()  # Começamos uma rede \"vazia\", como uma caixa de blocos\n",
        "\n",
        "print(\"\\nModelo\")\n",
        "print(modelo)\n",
        "\n",
        "# 🧱 Adicionamos uma camada com 8 neurônios\n",
        "# Cada neurônio recebe os 4 dados da pessoa e faz contas com eles\n",
        "# A função 'relu' ajuda a rede a \"acordar\" e aprender melhor\n",
        "modelo.add(Dense(8, activation='relu', input_shape=(4,)))\n",
        "\n",
        "# 🎯 Agora a camada de saída (apenas 1 neurônio)\n",
        "# Ele vai dizer: \"Sim (1)\" ou \"Não (0)\" para o empréstimo\n",
        "# A função 'sigmoid' transforma o resultado em algo entre 0 e 1\n",
        "modelo.add(Dense(1, activation='sigmoid'))\n",
        "\n",
        "print(\"\\nModelo\")\n",
        "print(modelo)\n",
        "# 🔧 Preparando a rede para o treino\n",
        "# 'adam' é o método de aprendizagem da IA\n",
        "# 'binary_crossentropy' mede se a IA está acertando ou errando\n",
        "modelo.compile(optimizer='adam', loss='binary_crossentropy', metrics=['accuracy'])\n",
        "\n",
        "# 🚀 Treinando a rede com os dados que criamos\n",
        "# Vai repetir 10 vezes e aprender com 10 pessoas por vez\n",
        "modelo.fit(X, y, epochs=10, batch_size=10)\n",
        "print(\"\\nModelo\")\n",
        "print(modelo)\n",
        "\n",
        "# Novos dados (1 pessoa com 4 características)\n",
        "nova_pessoa = np.array([[0.35, 0.75, 0.50, 0]])\n",
        "\n",
        "# Fazendo a previsão\n",
        "resultado = modelo.predict(nova_pessoa)\n",
        "\n",
        "\n",
        "# Exibindo o resultado\n",
        "print(\"Resultado da rede:\", resultado)\n",
        "\n",
        "# Interpretando a saída\n",
        "if resultado >= 0.5:\n",
        "    print(\"✅ Crédito aprovado!\")\n",
        "else:\n",
        "    print(\"❌ Crédito reprovado!\")"
      ]
    }
  ]
}